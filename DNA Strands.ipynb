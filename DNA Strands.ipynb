{
 "cells": [
  {
   "cell_type": "code",
   "execution_count": null,
   "metadata": {},
   "outputs": [],
   "source": [
    "''' \n",
    "Was taking a short test on HackerRank and the task was to filter given set of DNA strands by the following conditions:\n",
    "- strand has to be longer than 10 characters\n",
    "- strand has to be shorter than 100 characters\n",
    "- should only contain capital letters\n",
    "- strand should only consist of A, C, T, G letters\n",
    "- if the resulting list has less than 3 elements, than return an empty string.\n",
    "\n",
    "Part 2 required to sequence each strand in the filtered sequence by matching the last and the first three letters\n",
    "of each strand, then joining such matching strands and removing the overlapping endings. \n",
    "\n",
    "Part 3 required to match every three elements to an aminoacid, and the dictionary was supposed to be provided by \n",
    "a variable inside the code. I will skip this part as I don't have such vocabulary. \n",
    "'''"
   ]
  },
  {
   "cell_type": "code",
   "execution_count": 215,
   "metadata": {},
   "outputs": [],
   "source": [
    "#Let's imagine this is the sequence we have\n",
    "\n",
    "li = ['AGTGGGGGGGA', 'CTAGACT', 'GGAAACCCAATTT', 'GACTTLLKJSGGC', 'TTTGGCAGCTAGT', 'GCTGGGCCGGCAGT']"
   ]
  },
  {
   "cell_type": "code",
   "execution_count": 216,
   "metadata": {},
   "outputs": [],
   "source": [
    "# This function filters the strands that satisfy a list of conditions\n",
    "def strandfilter(strandlist):\n",
    "    outputlist = []\n",
    "    for strand in strandlist:\n",
    "        if (len(strand) > 10) and (len(strand) < 100) and (set(strand) <= set('ACTG')):\n",
    "            outputlist.append(strand)\n",
    "    if len(outputlist) < 3:\n",
    "        return ''\n",
    "    else:\n",
    "        return outputlist"
   ]
  },
  {
   "cell_type": "code",
   "execution_count": 217,
   "metadata": {},
   "outputs": [],
   "source": [
    "# This function sequences the strands and builds an DNA sequence overlapping the first\n",
    "# and the last three aminoacids removing the overalps\n",
    "\n",
    "def strandsequencer(samplist):\n",
    "    element = ''\n",
    "\n",
    "    while samplist:\n",
    "        if element == '':\n",
    "            element = samplist[0]   \n",
    "            del samplist[0]\n",
    "\n",
    "        j = 0\n",
    "        while samplist:\n",
    "\n",
    "            if element[-3:] == samplist[j][:3]:\n",
    "                element = element[:-3] + samplist[j]\n",
    "                del samplist[j]\n",
    "\n",
    "            elif element[:3] == samplist[j][-3:]:\n",
    "                element = samplist[j] + element[3:]\n",
    "                del samplist[j]\n",
    "\n",
    "                \n",
    "    return element"
   ]
  },
  {
   "cell_type": "code",
   "execution_count": 218,
   "metadata": {},
   "outputs": [
    {
     "name": "stdout",
     "output_type": "stream",
     "text": [
      "Filtered list of strands:  ['AGTGGGGGGGA', 'GGAAACCCAATTT', 'TTTGGCAGCTAGT', 'GCTGGGCCGGCAGT']\n"
     ]
    }
   ],
   "source": [
    "samplist = strandfilter(li)\n",
    "print('Filtered list of strands: ', samplist)"
   ]
  },
  {
   "cell_type": "code",
   "execution_count": 214,
   "metadata": {},
   "outputs": [
    {
     "name": "stdout",
     "output_type": "stream",
     "text": [
      "Final strand compilation with overlaps removed:  GCTGGGCCGGCAGTGGGGGGGAAACCCAATTTGGCAGCTAGT\n"
     ]
    }
   ],
   "source": [
    "newlist = strandsequencer(samplist)\n",
    "print('Final strand compilation with overlaps removed: ', newlist)"
   ]
  },
  {
   "cell_type": "code",
   "execution_count": null,
   "metadata": {},
   "outputs": [],
   "source": []
  }
 ],
 "metadata": {
  "kernelspec": {
   "display_name": "Python 3",
   "language": "python",
   "name": "python3"
  },
  "language_info": {
   "codemirror_mode": {
    "name": "ipython",
    "version": 3
   },
   "file_extension": ".py",
   "mimetype": "text/x-python",
   "name": "python",
   "nbconvert_exporter": "python",
   "pygments_lexer": "ipython3",
   "version": "3.6.2"
  }
 },
 "nbformat": 4,
 "nbformat_minor": 2
}
